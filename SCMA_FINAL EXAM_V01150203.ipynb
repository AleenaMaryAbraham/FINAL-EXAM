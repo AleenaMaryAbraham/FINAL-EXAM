{
 "cells": [
  {
   "cell_type": "code",
   "execution_count": 1,
   "id": "3277d2bd-b645-4baf-bd2a-a4bcf44315b6",
   "metadata": {},
   "outputs": [],
   "source": [
    "# 1. Import packages\n",
    "import pandas as pd\n",
    "import numpy as np\n",
    "import matplotlib.pyplot as plt\n",
    "import statsmodels.api as sm\n",
    "from sklearn.metrics import mean_squared_error, mean_absolute_error\n",
    "from math import sqrt"
   ]
  },
  {
   "cell_type": "code",
   "execution_count": 2,
   "id": "53d22da5-9e1e-488e-8fa9-e5df71cd5455",
   "metadata": {},
   "outputs": [],
   "source": [
    "# Load gold price data from 'Monthly Prices' sheet\n",
    "df_gold = pd.read_excel(\n",
    "    'C:/Users/Aleena Mary Abraham/OneDrive/Desktop/SCMA632_2025/Data/pink_sheet.xlsx',\n",
    "    sheet_name='Monthly Prices',\n",
    "    header=6  # Row with variable codes like \"GOLD\"\n",
    ")"
   ]
  },
  {
   "cell_type": "code",
   "execution_count": 5,
   "id": "0e3c920d-99af-4682-b766-135ef6f2197a",
   "metadata": {},
   "outputs": [],
   "source": [
    "# Extract the date and gold price columns\n",
    "df_gold = df_gold[['Unnamed: 0', 'GOLD']]  # 'Unnamed: 0' contains dates like 1960M01\n",
    "df_gold.columns = ['Date', 'Gold_Price']"
   ]
  },
  {
   "cell_type": "code",
   "execution_count": 6,
   "id": "b320d7b6-315a-49c8-921d-74ee05717dd3",
   "metadata": {},
   "outputs": [
    {
     "name": "stderr",
     "output_type": "stream",
     "text": [
      "C:\\Users\\Aleena Mary Abraham\\AppData\\Local\\Temp\\ipykernel_24468\\3405892041.py:2: SettingWithCopyWarning: \n",
      "A value is trying to be set on a copy of a slice from a DataFrame.\n",
      "Try using .loc[row_indexer,col_indexer] = value instead\n",
      "\n",
      "See the caveats in the documentation: https://pandas.pydata.org/pandas-docs/stable/user_guide/indexing.html#returning-a-view-versus-a-copy\n",
      "  df_gold['Date'] = pd.to_datetime(df_gold['Date'], format='%YM%m')\n"
     ]
    }
   ],
   "source": [
    "# Convert 'Date' from '1960M01' format to proper datetime\n",
    "df_gold['Date'] = pd.to_datetime(df_gold['Date'], format='%YM%m')\n",
    "df_gold.set_index('Date', inplace=True)\n",
    "\n",
    "# Drop any missing values\n",
    "df_gold = df_gold.dropna()"
   ]
  },
  {
   "cell_type": "code",
   "execution_count": 7,
   "id": "32201c2b-ad0c-400e-90e7-a10dcd6867d5",
   "metadata": {},
   "outputs": [
    {
     "name": "stdout",
     "output_type": "stream",
     "text": [
      "            Gold_Price\n",
      "Date                  \n",
      "2000-01-01      284.32\n",
      "2000-02-01      299.86\n",
      "2000-03-01      286.39\n",
      "2000-04-01      279.69\n",
      "2000-05-01      275.19\n"
     ]
    }
   ],
   "source": [
    "# Keeping recent 20–30 years if it's too long\n",
    "df_gold = df_gold[df_gold.index >= '2000-01-01']\n",
    "\n",
    "# Preview cleaned data\n",
    "print(df_gold.head())"
   ]
  },
  {
   "cell_type": "code",
   "execution_count": null,
   "id": "ccd50a1b-b600-4459-88d7-9d2a9ee0a3a6",
   "metadata": {},
   "outputs": [],
   "source": [
    "import statsmodels.api as sm\n",
    "import matplotlib.pyplot as plt\n",
    "from sklearn.metrics import mean_absolute_error, mean_squared_error"
   ]
  },
  {
   "cell_type": "code",
   "execution_count": null,
   "id": "21194d64-2ee4-4721-87c4-a857ca27eec4",
   "metadata": {},
   "outputs": [],
   "source": [
    "# 1. Split into training and test sets (last 12 months for testing)\n",
    "train = df_gold.iloc[:-12]\n",
    "test = df_gold.iloc[-12:]"
   ]
  },
  {
   "cell_type": "code",
   "execution_count": null,
   "id": "00630415-501f-4156-926c-cfefbaa42af5",
   "metadata": {},
   "outputs": [],
   "source": [
    "# 2. Fit SARIMA model: SARIMA(p,d,q)(P,D,Q,s)\n",
    "model = sm.tsa.statespace.SARIMAX(train,\n",
    "                                  order=(1, 1, 1),\n",
    "                                  seasonal_order=(1, 1, 1, 12),  # Monthly seasonality\n",
    "                                  enforce_stationarity=False,\n",
    "                                  enforce_invertibility=False)\n",
    "results = model.fit()"
   ]
  },
  {
   "cell_type": "code",
   "execution_count": null,
   "id": "fdfe2693-2a6b-405b-b998-0098111b1de6",
   "metadata": {},
   "outputs": [],
   "source": [
    "# 3. Forecast the next 12 months\n",
    "forecast = results.get_forecast(steps=12)\n",
    "forecast_mean = forecast.predicted_mean\n",
    "conf_int = forecast.conf_int()"
   ]
  },
  {
   "cell_type": "code",
   "execution_count": null,
   "id": "d4fbe057-b670-4986-a5b5-ec94aa276404",
   "metadata": {},
   "outputs": [],
   "source": [
    "# 4. Plot forecast vs actual\n",
    "plt.figure(figsize=(12, 5))\n",
    "plt.plot(train.index, train['Gold_Price'], label='Training')\n",
    "plt.plot(test.index, test['Gold_Price'], label='Actual')\n",
    "plt.plot(forecast_mean.index, forecast_mean, label='Forecast', color='red')\n",
    "plt.fill_between(forecast_mean.index,\n",
    "                 conf_int.iloc[:, 0],\n",
    "                 conf_int.iloc[:, 1],\n",
    "                 color='pink', alpha=0.3)\n",
    "plt.title('SARIMA Forecast of Gold Prices')\n",
    "plt.xlabel('Date')\n",
    "plt.ylabel('Gold Price (US$/oz)')\n",
    "plt.legend()\n",
    "plt.grid(True)\n",
    "plt.show()"
   ]
  },
  {
   "cell_type": "code",
   "execution_count": null,
   "id": "b81af171-abf3-4c41-aaa4-d52edc622da9",
   "metadata": {},
   "outputs": [],
   "source": [
    "# 5. Evaluate model\n",
    "rmse = np.sqrt(mean_squared_error(test, forecast_mean))\n",
    "mae = mean_absolute_error(test, forecast_mean)\n",
    "\n",
    "print(f'RMSE: {rmse:.2f}')\n",
    "print(f'MAE: {mae:.2f}')"
   ]
  }
 ],
 "metadata": {
  "kernelspec": {
   "display_name": "Python 3 (ipykernel)",
   "language": "python",
   "name": "python3"
  },
  "language_info": {
   "codemirror_mode": {
    "name": "ipython",
    "version": 3
   },
   "file_extension": ".py",
   "mimetype": "text/x-python",
   "name": "python",
   "nbconvert_exporter": "python",
   "pygments_lexer": "ipython3",
   "version": "3.12.7"
  }
 },
 "nbformat": 4,
 "nbformat_minor": 5
}
